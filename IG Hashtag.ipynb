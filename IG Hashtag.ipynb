{
 "cells": [
  {
   "cell_type": "markdown",
   "metadata": {},
   "source": [
    "# LIBRARY"
   ]
  },
  {
   "cell_type": "code",
   "execution_count": 1,
   "metadata": {},
   "outputs": [],
   "source": [
    "import numpy as np\n",
    "import pandas as pd\n",
    "import json\n",
    "\n",
    "import matplotlib.pyplot as plt\n",
    "%matplotlib inline\n",
    "import seaborn as sns\n",
    "\n",
    "from selenium import webdriver\n",
    "from selenium.webdriver.common.keys import Keys\n",
    "import time"
   ]
  },
  {
   "cell_type": "markdown",
   "metadata": {},
   "source": [
    "# DATA SOURCE"
   ]
  },
  {
   "cell_type": "code",
   "execution_count": 2,
   "metadata": {},
   "outputs": [],
   "source": [
    "path = \"C:/Users/JamesDuong/.wdm/drivers/chromedriver/win32/87.0.4280.88/chromedriver.exe\"\n",
    "driver = webdriver.Chrome(path)\n",
    "#driver = webdriver.Chrome(ChromeDriverManager().install())\n",
    "\n",
    "data_source = \"https://www.instagram.com/explore/tags/marketing/\""
   ]
  },
  {
   "cell_type": "markdown",
   "metadata": {},
   "source": [
    "# GET POSTS' URL"
   ]
  },
  {
   "cell_type": "code",
   "execution_count": 566,
   "metadata": {
    "scrolled": true
   },
   "outputs": [],
   "source": [
    "driver = webdriver.Chrome(PATH)\n",
    "driver.get(data_source)\n",
    "\n",
    "# Login\n",
    "# driver.find_element_by_xpath('//*[@id=\"react-root\"]/section/nav/div[2]/div/div/div[3]/div/span/a[1]/button').click()\n",
    "# time.sleep(1)\n",
    "# driver.find_element_by_xpath('//*[@id=\"loginForm\"]/div/div[5]/button/span[2]').click()\n",
    "# time.sleep(1)\n",
    "# username = 'duonghoanvu1@yahoo.com.vn'\n",
    "# password = pwd\n",
    "# driver.find_element_by_xpath('//*[@id=\"email\"]').send_keys(username)\n",
    "# driver.find_element_by_xpath('//*[@id=\"pass\"]').send_keys(password)\n",
    "# driver.find_element_by_xpath('//*[@id=\"loginbutton\"]').click()\n",
    "\n",
    "\n",
    "post_id = set()\n",
    "\n",
    "# Scroll page\n",
    "lenOfPage = driver.execute_script('window.scrollTo(0, document.body.scrollHeight); var lenOfPage=document.body.scrollHeight; return lenOfPage;')\n",
    "match=False\n",
    "\n",
    "# Top_posts\n",
    "top_posts = set()\n",
    "[top_posts.add(each_post.get_attribute('href')) for each_post in driver.find_element_by_class_name('EZdmt').find_elements_by_tag_name('a')]\n",
    "\n",
    "i = 0\n",
    "while(match==False):\n",
    "        lastCount = lenOfPage\n",
    "        \n",
    "        lenOfPage = driver.execute_script('window.scrollTo(0, document.body.scrollHeight); var lenOfPage=document.body.scrollHeight; return lenOfPage;')\n",
    "        \n",
    "        \n",
    "        # [post_id.add(each_post.find_element_by_tag_name('a').get_attribute('href')) for each_post in driver.find_elements_by_class_name('_bz0w')]\n",
    "        try:\n",
    "            [post_id.add(each_post.find_element_by_tag_name('a').get_attribute('href')) for each_post in driver.find_elements_by_class_name('_bz0w')]\n",
    "        except:\n",
    "            continue\n",
    "        time.sleep(0.5)\n",
    "        \n",
    "        if lastCount == lenOfPage:\n",
    "            if i < 3:\n",
    "                continue\n",
    "            \n",
    "            match=True\n",
    "        \n",
    "        i += 1\n",
    "        if i == 3:\n",
    "            break"
   ]
  },
  {
   "cell_type": "code",
   "execution_count": 568,
   "metadata": {},
   "outputs": [
    {
     "data": {
      "text/plain": [
       "{'https://www.instagram.com/p/CGc-Ac2pidq/',\n",
       " 'https://www.instagram.com/p/CGdAwTwBnFz/',\n",
       " 'https://www.instagram.com/p/CGdbUCNg9y-/',\n",
       " 'https://www.instagram.com/p/CGdflZ9HJxt/',\n",
       " 'https://www.instagram.com/p/CGdiibElGgB/',\n",
       " 'https://www.instagram.com/p/CGdxS5YgIKp/',\n",
       " 'https://www.instagram.com/p/CGeBcsuA8Zx/',\n",
       " 'https://www.instagram.com/p/CGeEbDVHjz1/',\n",
       " 'https://www.instagram.com/p/CGeQ2h9j7ea/'}"
      ]
     },
     "execution_count": 568,
     "metadata": {},
     "output_type": "execute_result"
    }
   ],
   "source": [
    "top_posts"
   ]
  },
  {
   "cell_type": "markdown",
   "metadata": {},
   "source": [
    "# CLEANING DATA"
   ]
  },
  {
   "cell_type": "code",
   "execution_count": 569,
   "metadata": {},
   "outputs": [],
   "source": [
    "recent_posts = post_id-top_posts"
   ]
  },
  {
   "cell_type": "code",
   "execution_count": 570,
   "metadata": {
    "scrolled": true
   },
   "outputs": [],
   "source": [
    "Dict_image = {'photo_link': [],\n",
    "              'likes': [],\n",
    "              'comments': [],\n",
    "             'time_stamp': [],\n",
    "             'city': [],\n",
    "             'country':[]}\n",
    "\n",
    "Dict_video = {'video_link': [],\n",
    "              'likes': [],\n",
    "              'comments': []}\n",
    "\n",
    "i = 0\n",
    "for post in recent_posts:\n",
    "    i += 1\n",
    "    try:\n",
    "        driver.get(post)\n",
    "        shortcode = driver.current_url.split('/')[-2]\n",
    "\n",
    "        # Extract all info\n",
    "        script_info = driver.find_element_by_xpath(\"//script[@type='application/ld+json']\").get_attribute('innerHTML')\n",
    "\n",
    "        info = json.loads(script_info)\n",
    "        likes = info['interactionStatistic']['userInteractionCount']\n",
    "        comments = info['commentCount']\n",
    "\n",
    "        try:\n",
    "            city = info['contentLocation']['address']['addressLocality']\n",
    "            country = info['contentLocation']['address']['addressCountry']['name']\n",
    "        except:\n",
    "            city = 'unknown'\n",
    "            country = 'unknown'\n",
    "\n",
    "        time_stamp = info['uploadDate']\n",
    "\n",
    "        Dict_image['photo_link'].append(post)\n",
    "        Dict_image['likes'].append(likes)\n",
    "        Dict_image['comments'].append(comments)\n",
    "        Dict_image['city'].append(city)\n",
    "        Dict_image['country'].append(country)\n",
    "        Dict_image['time_stamp'].append(time_stamp)\n",
    "\n",
    "        #print(post, likes, comments)\n",
    "    except:\n",
    "        continue"
   ]
  },
  {
   "cell_type": "code",
   "execution_count": 571,
   "metadata": {
    "scrolled": true
   },
   "outputs": [
    {
     "data": {
      "text/plain": [
       "{'@context': 'http://schema.org',\n",
       " '@type': 'ImageObject',\n",
       " 'caption': 'True success is all about working towards meaningful goals and dreams.\\nMy first Goal is to be a chief minister of India.👨\\n.\\n.\\n.\\n.\\n.#socialmedia #socialism #social #socialmediamarketing #like4like #love #socialist #marketing #socialismo #instagood #instagram #socialize #socialnetwork #socialjustice #socialite #photooftheday #art #socialemotionallearning',\n",
       " 'representativeOfPage': 'http://schema.org/True',\n",
       " 'uploadDate': '2020-10-18T09:36:09',\n",
       " 'author': {'@type': 'Person',\n",
       "  'alternateName': '@manishdevadwall',\n",
       "  'mainEntityofPage': {'@type': 'ProfilePage',\n",
       "   '@id': 'https://www.instagram.com/manishdevadwall/'}},\n",
       " 'comment': [{'@type': 'Comment',\n",
       "   'text': 'Bjp💖😘',\n",
       "   'author': {'@type': 'Person',\n",
       "    'alternateName': '@_sumit_dubey_',\n",
       "    'mainEntityofPage': {'@type': 'ProfilePage',\n",
       "     '@id': 'https://www.instagram.com/_sumit_dubey_/'}}},\n",
       "  {'@type': 'Comment',\n",
       "   'text': '@_sumit_dubey_ Haan bhai 🔥🔥',\n",
       "   'author': {'@type': 'Person',\n",
       "    'alternateName': '@manishdevadwall',\n",
       "    'mainEntityofPage': {'@type': 'ProfilePage',\n",
       "     '@id': 'https://www.instagram.com/manishdevadwall/'}}}],\n",
       " 'commentCount': '2',\n",
       " 'contentLocation': {'@type': 'Place',\n",
       "  'name': 'India',\n",
       "  'mainEntityofPage': {'@type': 'CollectionPage',\n",
       "   '@id': 'https://www.instagram.com/explore/locations/109524955741121/india/'},\n",
       "  'address': {'@type': 'PostalAddress',\n",
       "   'addressCountry': {'@type': 'Country', 'name': 'IN'}}},\n",
       " 'interactionStatistic': {'@type': 'InteractionCounter',\n",
       "  'interactionType': {'@type': 'LikeAction'},\n",
       "  'userInteractionCount': '9'},\n",
       " 'mainEntityofPage': {'@type': 'ItemPage',\n",
       "  '@id': 'https://www.instagram.com/p/CGeuXCmJy6u/'},\n",
       " 'description': '9 Likes, 2 Comments - Måñï§h Mêêñå (@manishdevadwall) on Instagram: “True success is all about working towards meaningful goals and dreams. My first Goal is to be a…”',\n",
       " 'name': 'Måñï§h Mêêñå on Instagram: “True success is all about working towards meaningful goals and dreams. My first Goal is to be a chief minister of India.👨 . . . .…”'}"
      ]
     },
     "execution_count": 571,
     "metadata": {},
     "output_type": "execute_result"
    }
   ],
   "source": [
    "info"
   ]
  },
  {
   "cell_type": "code",
   "execution_count": 572,
   "metadata": {
    "scrolled": true
   },
   "outputs": [
    {
     "data": {
      "text/html": [
       "<div>\n",
       "<style scoped>\n",
       "    .dataframe tbody tr th:only-of-type {\n",
       "        vertical-align: middle;\n",
       "    }\n",
       "\n",
       "    .dataframe tbody tr th {\n",
       "        vertical-align: top;\n",
       "    }\n",
       "\n",
       "    .dataframe thead th {\n",
       "        text-align: right;\n",
       "    }\n",
       "</style>\n",
       "<table border=\"1\" class=\"dataframe\">\n",
       "  <thead>\n",
       "    <tr style=\"text-align: right;\">\n",
       "      <th></th>\n",
       "      <th>photo_link</th>\n",
       "      <th>likes</th>\n",
       "      <th>comments</th>\n",
       "      <th>time_stamp</th>\n",
       "      <th>city</th>\n",
       "      <th>country</th>\n",
       "    </tr>\n",
       "  </thead>\n",
       "  <tbody>\n",
       "    <tr>\n",
       "      <th>0</th>\n",
       "      <td>https://www.instagram.com/p/CGevAANjNmL/</td>\n",
       "      <td>0</td>\n",
       "      <td>0</td>\n",
       "      <td>2020-10-18 09:41:45</td>\n",
       "      <td>unknown</td>\n",
       "      <td>unknown</td>\n",
       "    </tr>\n",
       "    <tr>\n",
       "      <th>1</th>\n",
       "      <td>https://www.instagram.com/p/CGeu-8zn5gE/</td>\n",
       "      <td>2</td>\n",
       "      <td>0</td>\n",
       "      <td>2020-10-18 09:41:36</td>\n",
       "      <td>unknown</td>\n",
       "      <td>unknown</td>\n",
       "    </tr>\n",
       "    <tr>\n",
       "      <th>2</th>\n",
       "      <td>https://www.instagram.com/p/CGeuZcOALIm/</td>\n",
       "      <td>0</td>\n",
       "      <td>0</td>\n",
       "      <td>2020-10-18 09:36:29</td>\n",
       "      <td>Bandung</td>\n",
       "      <td>ID</td>\n",
       "    </tr>\n",
       "    <tr>\n",
       "      <th>3</th>\n",
       "      <td>https://www.instagram.com/p/CGeu6VuhpSK/</td>\n",
       "      <td>1</td>\n",
       "      <td>0</td>\n",
       "      <td>2020-10-18 09:41:36</td>\n",
       "      <td>unknown</td>\n",
       "      <td>unknown</td>\n",
       "    </tr>\n",
       "    <tr>\n",
       "      <th>4</th>\n",
       "      <td>https://www.instagram.com/p/CGeuzIRDQO1/</td>\n",
       "      <td>3</td>\n",
       "      <td>0</td>\n",
       "      <td>2020-10-18 09:39:59</td>\n",
       "      <td>unknown</td>\n",
       "      <td>unknown</td>\n",
       "    </tr>\n",
       "    <tr>\n",
       "      <th>...</th>\n",
       "      <td>...</td>\n",
       "      <td>...</td>\n",
       "      <td>...</td>\n",
       "      <td>...</td>\n",
       "      <td>...</td>\n",
       "      <td>...</td>\n",
       "    </tr>\n",
       "    <tr>\n",
       "      <th>76</th>\n",
       "      <td>https://www.instagram.com/p/CGeuyFxpY51/</td>\n",
       "      <td>0</td>\n",
       "      <td>1</td>\n",
       "      <td>2020-10-18 09:39:51</td>\n",
       "      <td>unknown</td>\n",
       "      <td>unknown</td>\n",
       "    </tr>\n",
       "    <tr>\n",
       "      <th>77</th>\n",
       "      <td>https://www.instagram.com/p/CGeuoE2lnca/</td>\n",
       "      <td>40</td>\n",
       "      <td>0</td>\n",
       "      <td>2020-10-18 09:38:43</td>\n",
       "      <td>unknown</td>\n",
       "      <td>unknown</td>\n",
       "    </tr>\n",
       "    <tr>\n",
       "      <th>78</th>\n",
       "      <td>https://www.instagram.com/p/CGdTkf8hBRh/</td>\n",
       "      <td>15</td>\n",
       "      <td>0</td>\n",
       "      <td>2020-10-17 20:22:49</td>\n",
       "      <td>unknown</td>\n",
       "      <td>unknown</td>\n",
       "    </tr>\n",
       "    <tr>\n",
       "      <th>79</th>\n",
       "      <td>https://www.instagram.com/p/CGeuXeKFjDR/</td>\n",
       "      <td>1</td>\n",
       "      <td>0</td>\n",
       "      <td>2020-10-18 09:36:13</td>\n",
       "      <td>Shepton Mallet</td>\n",
       "      <td>GB</td>\n",
       "    </tr>\n",
       "    <tr>\n",
       "      <th>80</th>\n",
       "      <td>https://www.instagram.com/p/CGeuXCmJy6u/</td>\n",
       "      <td>9</td>\n",
       "      <td>2</td>\n",
       "      <td>2020-10-18 09:36:09</td>\n",
       "      <td>unknown</td>\n",
       "      <td>unknown</td>\n",
       "    </tr>\n",
       "  </tbody>\n",
       "</table>\n",
       "<p>81 rows × 6 columns</p>\n",
       "</div>"
      ],
      "text/plain": [
       "                                  photo_link likes comments  \\\n",
       "0   https://www.instagram.com/p/CGevAANjNmL/     0        0   \n",
       "1   https://www.instagram.com/p/CGeu-8zn5gE/     2        0   \n",
       "2   https://www.instagram.com/p/CGeuZcOALIm/     0        0   \n",
       "3   https://www.instagram.com/p/CGeu6VuhpSK/     1        0   \n",
       "4   https://www.instagram.com/p/CGeuzIRDQO1/     3        0   \n",
       "..                                       ...   ...      ...   \n",
       "76  https://www.instagram.com/p/CGeuyFxpY51/     0        1   \n",
       "77  https://www.instagram.com/p/CGeuoE2lnca/    40        0   \n",
       "78  https://www.instagram.com/p/CGdTkf8hBRh/    15        0   \n",
       "79  https://www.instagram.com/p/CGeuXeKFjDR/     1        0   \n",
       "80  https://www.instagram.com/p/CGeuXCmJy6u/     9        2   \n",
       "\n",
       "            time_stamp            city  country  \n",
       "0  2020-10-18 09:41:45         unknown  unknown  \n",
       "1  2020-10-18 09:41:36         unknown  unknown  \n",
       "2  2020-10-18 09:36:29         Bandung       ID  \n",
       "3  2020-10-18 09:41:36         unknown  unknown  \n",
       "4  2020-10-18 09:39:59         unknown  unknown  \n",
       "..                 ...             ...      ...  \n",
       "76 2020-10-18 09:39:51         unknown  unknown  \n",
       "77 2020-10-18 09:38:43         unknown  unknown  \n",
       "78 2020-10-17 20:22:49         unknown  unknown  \n",
       "79 2020-10-18 09:36:13  Shepton Mallet       GB  \n",
       "80 2020-10-18 09:36:09         unknown  unknown  \n",
       "\n",
       "[81 rows x 6 columns]"
      ]
     },
     "execution_count": 572,
     "metadata": {},
     "output_type": "execute_result"
    }
   ],
   "source": [
    "df = pd.DataFrame(data=Dict_image)\n",
    "df['time_stamp'] = pd.to_datetime(df['time_stamp'])\n",
    "df"
   ]
  },
  {
   "cell_type": "code",
   "execution_count": 574,
   "metadata": {},
   "outputs": [],
   "source": [
    "df['likes'] = df['likes'].astype(int)\n",
    "df['comments'] = df['comments'].astype(int)\n",
    "\n",
    "df['time_stamp'] = df['time_stamp'].dt.round('min')\n",
    "df['date'] = df['time_stamp'].dt.date\n",
    "df['hour'] = df['time_stamp'].dt.hour"
   ]
  },
  {
   "cell_type": "code",
   "execution_count": 575,
   "metadata": {
    "scrolled": true
   },
   "outputs": [
    {
     "data": {
      "text/html": [
       "<div>\n",
       "<style scoped>\n",
       "    .dataframe tbody tr th:only-of-type {\n",
       "        vertical-align: middle;\n",
       "    }\n",
       "\n",
       "    .dataframe tbody tr th {\n",
       "        vertical-align: top;\n",
       "    }\n",
       "\n",
       "    .dataframe thead th {\n",
       "        text-align: right;\n",
       "    }\n",
       "</style>\n",
       "<table border=\"1\" class=\"dataframe\">\n",
       "  <thead>\n",
       "    <tr style=\"text-align: right;\">\n",
       "      <th></th>\n",
       "      <th>photo_link</th>\n",
       "      <th>likes</th>\n",
       "      <th>comments</th>\n",
       "      <th>time_stamp</th>\n",
       "      <th>city</th>\n",
       "      <th>country</th>\n",
       "      <th>date</th>\n",
       "      <th>hour</th>\n",
       "    </tr>\n",
       "  </thead>\n",
       "  <tbody>\n",
       "    <tr>\n",
       "      <th>0</th>\n",
       "      <td>https://www.instagram.com/p/CGevAANjNmL/</td>\n",
       "      <td>0</td>\n",
       "      <td>0</td>\n",
       "      <td>2020-10-18 09:42:00</td>\n",
       "      <td>unknown</td>\n",
       "      <td>unknown</td>\n",
       "      <td>2020-10-18</td>\n",
       "      <td>9</td>\n",
       "    </tr>\n",
       "    <tr>\n",
       "      <th>1</th>\n",
       "      <td>https://www.instagram.com/p/CGeu-8zn5gE/</td>\n",
       "      <td>2</td>\n",
       "      <td>0</td>\n",
       "      <td>2020-10-18 09:42:00</td>\n",
       "      <td>unknown</td>\n",
       "      <td>unknown</td>\n",
       "      <td>2020-10-18</td>\n",
       "      <td>9</td>\n",
       "    </tr>\n",
       "    <tr>\n",
       "      <th>2</th>\n",
       "      <td>https://www.instagram.com/p/CGeuZcOALIm/</td>\n",
       "      <td>0</td>\n",
       "      <td>0</td>\n",
       "      <td>2020-10-18 09:36:00</td>\n",
       "      <td>Bandung</td>\n",
       "      <td>ID</td>\n",
       "      <td>2020-10-18</td>\n",
       "      <td>9</td>\n",
       "    </tr>\n",
       "    <tr>\n",
       "      <th>3</th>\n",
       "      <td>https://www.instagram.com/p/CGeu6VuhpSK/</td>\n",
       "      <td>1</td>\n",
       "      <td>0</td>\n",
       "      <td>2020-10-18 09:42:00</td>\n",
       "      <td>unknown</td>\n",
       "      <td>unknown</td>\n",
       "      <td>2020-10-18</td>\n",
       "      <td>9</td>\n",
       "    </tr>\n",
       "    <tr>\n",
       "      <th>4</th>\n",
       "      <td>https://www.instagram.com/p/CGeuzIRDQO1/</td>\n",
       "      <td>3</td>\n",
       "      <td>0</td>\n",
       "      <td>2020-10-18 09:40:00</td>\n",
       "      <td>unknown</td>\n",
       "      <td>unknown</td>\n",
       "      <td>2020-10-18</td>\n",
       "      <td>9</td>\n",
       "    </tr>\n",
       "    <tr>\n",
       "      <th>...</th>\n",
       "      <td>...</td>\n",
       "      <td>...</td>\n",
       "      <td>...</td>\n",
       "      <td>...</td>\n",
       "      <td>...</td>\n",
       "      <td>...</td>\n",
       "      <td>...</td>\n",
       "      <td>...</td>\n",
       "    </tr>\n",
       "    <tr>\n",
       "      <th>76</th>\n",
       "      <td>https://www.instagram.com/p/CGeuyFxpY51/</td>\n",
       "      <td>0</td>\n",
       "      <td>1</td>\n",
       "      <td>2020-10-18 09:40:00</td>\n",
       "      <td>unknown</td>\n",
       "      <td>unknown</td>\n",
       "      <td>2020-10-18</td>\n",
       "      <td>9</td>\n",
       "    </tr>\n",
       "    <tr>\n",
       "      <th>77</th>\n",
       "      <td>https://www.instagram.com/p/CGeuoE2lnca/</td>\n",
       "      <td>40</td>\n",
       "      <td>0</td>\n",
       "      <td>2020-10-18 09:39:00</td>\n",
       "      <td>unknown</td>\n",
       "      <td>unknown</td>\n",
       "      <td>2020-10-18</td>\n",
       "      <td>9</td>\n",
       "    </tr>\n",
       "    <tr>\n",
       "      <th>78</th>\n",
       "      <td>https://www.instagram.com/p/CGdTkf8hBRh/</td>\n",
       "      <td>15</td>\n",
       "      <td>0</td>\n",
       "      <td>2020-10-17 20:23:00</td>\n",
       "      <td>unknown</td>\n",
       "      <td>unknown</td>\n",
       "      <td>2020-10-17</td>\n",
       "      <td>20</td>\n",
       "    </tr>\n",
       "    <tr>\n",
       "      <th>79</th>\n",
       "      <td>https://www.instagram.com/p/CGeuXeKFjDR/</td>\n",
       "      <td>1</td>\n",
       "      <td>0</td>\n",
       "      <td>2020-10-18 09:36:00</td>\n",
       "      <td>Shepton Mallet</td>\n",
       "      <td>GB</td>\n",
       "      <td>2020-10-18</td>\n",
       "      <td>9</td>\n",
       "    </tr>\n",
       "    <tr>\n",
       "      <th>80</th>\n",
       "      <td>https://www.instagram.com/p/CGeuXCmJy6u/</td>\n",
       "      <td>9</td>\n",
       "      <td>2</td>\n",
       "      <td>2020-10-18 09:36:00</td>\n",
       "      <td>unknown</td>\n",
       "      <td>unknown</td>\n",
       "      <td>2020-10-18</td>\n",
       "      <td>9</td>\n",
       "    </tr>\n",
       "  </tbody>\n",
       "</table>\n",
       "<p>81 rows × 8 columns</p>\n",
       "</div>"
      ],
      "text/plain": [
       "                                  photo_link  likes  comments  \\\n",
       "0   https://www.instagram.com/p/CGevAANjNmL/      0         0   \n",
       "1   https://www.instagram.com/p/CGeu-8zn5gE/      2         0   \n",
       "2   https://www.instagram.com/p/CGeuZcOALIm/      0         0   \n",
       "3   https://www.instagram.com/p/CGeu6VuhpSK/      1         0   \n",
       "4   https://www.instagram.com/p/CGeuzIRDQO1/      3         0   \n",
       "..                                       ...    ...       ...   \n",
       "76  https://www.instagram.com/p/CGeuyFxpY51/      0         1   \n",
       "77  https://www.instagram.com/p/CGeuoE2lnca/     40         0   \n",
       "78  https://www.instagram.com/p/CGdTkf8hBRh/     15         0   \n",
       "79  https://www.instagram.com/p/CGeuXeKFjDR/      1         0   \n",
       "80  https://www.instagram.com/p/CGeuXCmJy6u/      9         2   \n",
       "\n",
       "            time_stamp            city  country        date  hour  \n",
       "0  2020-10-18 09:42:00         unknown  unknown  2020-10-18     9  \n",
       "1  2020-10-18 09:42:00         unknown  unknown  2020-10-18     9  \n",
       "2  2020-10-18 09:36:00         Bandung       ID  2020-10-18     9  \n",
       "3  2020-10-18 09:42:00         unknown  unknown  2020-10-18     9  \n",
       "4  2020-10-18 09:40:00         unknown  unknown  2020-10-18     9  \n",
       "..                 ...             ...      ...         ...   ...  \n",
       "76 2020-10-18 09:40:00         unknown  unknown  2020-10-18     9  \n",
       "77 2020-10-18 09:39:00         unknown  unknown  2020-10-18     9  \n",
       "78 2020-10-17 20:23:00         unknown  unknown  2020-10-17    20  \n",
       "79 2020-10-18 09:36:00  Shepton Mallet       GB  2020-10-18     9  \n",
       "80 2020-10-18 09:36:00         unknown  unknown  2020-10-18     9  \n",
       "\n",
       "[81 rows x 8 columns]"
      ]
     },
     "execution_count": 575,
     "metadata": {},
     "output_type": "execute_result"
    }
   ],
   "source": [
    "df"
   ]
  },
  {
   "cell_type": "code",
   "execution_count": 576,
   "metadata": {},
   "outputs": [
    {
     "data": {
      "text/html": [
       "<div>\n",
       "<style scoped>\n",
       "    .dataframe tbody tr th:only-of-type {\n",
       "        vertical-align: middle;\n",
       "    }\n",
       "\n",
       "    .dataframe tbody tr th {\n",
       "        vertical-align: top;\n",
       "    }\n",
       "\n",
       "    .dataframe thead th {\n",
       "        text-align: right;\n",
       "    }\n",
       "</style>\n",
       "<table border=\"1\" class=\"dataframe\">\n",
       "  <thead>\n",
       "    <tr style=\"text-align: right;\">\n",
       "      <th></th>\n",
       "      <th>photo_link</th>\n",
       "      <th>likes</th>\n",
       "      <th>comments</th>\n",
       "      <th>time_stamp</th>\n",
       "      <th>city</th>\n",
       "      <th>country</th>\n",
       "      <th>date</th>\n",
       "      <th>hour</th>\n",
       "    </tr>\n",
       "  </thead>\n",
       "  <tbody>\n",
       "  </tbody>\n",
       "</table>\n",
       "</div>"
      ],
      "text/plain": [
       "Empty DataFrame\n",
       "Columns: [photo_link, likes, comments, time_stamp, city, country, date, hour]\n",
       "Index: []"
      ]
     },
     "execution_count": 576,
     "metadata": {},
     "output_type": "execute_result"
    }
   ],
   "source": [
    "df[df['hour'] == 0]"
   ]
  },
  {
   "cell_type": "code",
   "execution_count": 580,
   "metadata": {},
   "outputs": [
    {
     "data": {
      "text/plain": [
       "datetime.date(2020, 10, 13)"
      ]
     },
     "execution_count": 580,
     "metadata": {},
     "output_type": "execute_result"
    }
   ],
   "source": [
    "df['date'].min()"
   ]
  },
  {
   "cell_type": "code",
   "execution_count": 581,
   "metadata": {},
   "outputs": [
    {
     "data": {
      "text/plain": [
       "datetime.date(2020, 10, 18)"
      ]
     },
     "execution_count": 581,
     "metadata": {},
     "output_type": "execute_result"
    }
   ],
   "source": [
    "df['date'].max()"
   ]
  },
  {
   "cell_type": "code",
   "execution_count": 582,
   "metadata": {},
   "outputs": [
    {
     "data": {
      "text/html": [
       "<div>\n",
       "<style scoped>\n",
       "    .dataframe tbody tr th:only-of-type {\n",
       "        vertical-align: middle;\n",
       "    }\n",
       "\n",
       "    .dataframe tbody tr th {\n",
       "        vertical-align: top;\n",
       "    }\n",
       "\n",
       "    .dataframe thead th {\n",
       "        text-align: right;\n",
       "    }\n",
       "</style>\n",
       "<table border=\"1\" class=\"dataframe\">\n",
       "  <thead>\n",
       "    <tr style=\"text-align: right;\">\n",
       "      <th></th>\n",
       "      <th>sum</th>\n",
       "      <th>mean</th>\n",
       "      <th>count</th>\n",
       "    </tr>\n",
       "    <tr>\n",
       "      <th>hour</th>\n",
       "      <th></th>\n",
       "      <th></th>\n",
       "      <th></th>\n",
       "    </tr>\n",
       "  </thead>\n",
       "  <tbody>\n",
       "    <tr>\n",
       "      <th>3</th>\n",
       "      <td>7</td>\n",
       "      <td>7.000000</td>\n",
       "      <td>1</td>\n",
       "    </tr>\n",
       "    <tr>\n",
       "      <th>8</th>\n",
       "      <td>44</td>\n",
       "      <td>14.666667</td>\n",
       "      <td>3</td>\n",
       "    </tr>\n",
       "    <tr>\n",
       "      <th>9</th>\n",
       "      <td>228</td>\n",
       "      <td>3.211268</td>\n",
       "      <td>71</td>\n",
       "    </tr>\n",
       "    <tr>\n",
       "      <th>10</th>\n",
       "      <td>8</td>\n",
       "      <td>8.000000</td>\n",
       "      <td>1</td>\n",
       "    </tr>\n",
       "    <tr>\n",
       "      <th>11</th>\n",
       "      <td>9</td>\n",
       "      <td>9.000000</td>\n",
       "      <td>1</td>\n",
       "    </tr>\n",
       "    <tr>\n",
       "      <th>15</th>\n",
       "      <td>35</td>\n",
       "      <td>35.000000</td>\n",
       "      <td>1</td>\n",
       "    </tr>\n",
       "    <tr>\n",
       "      <th>20</th>\n",
       "      <td>43</td>\n",
       "      <td>14.333333</td>\n",
       "      <td>3</td>\n",
       "    </tr>\n",
       "  </tbody>\n",
       "</table>\n",
       "</div>"
      ],
      "text/plain": [
       "      sum       mean  count\n",
       "hour                       \n",
       "3       7   7.000000      1\n",
       "8      44  14.666667      3\n",
       "9     228   3.211268     71\n",
       "10      8   8.000000      1\n",
       "11      9   9.000000      1\n",
       "15     35  35.000000      1\n",
       "20     43  14.333333      3"
      ]
     },
     "execution_count": 582,
     "metadata": {},
     "output_type": "execute_result"
    }
   ],
   "source": [
    "hour_likes = df.groupby(['hour'])['likes'].agg(['sum', 'mean', 'count']) # df.groupby(['hour'])[['likes']].sum() # == df.groupby(['hour'])['likes'].agg(['sum'])\n",
    "hour_likes"
   ]
  },
  {
   "cell_type": "markdown",
   "metadata": {},
   "source": [
    "# GRAPH PLOTING"
   ]
  },
  {
   "cell_type": "code",
   "execution_count": 578,
   "metadata": {
    "scrolled": true
   },
   "outputs": [
    {
     "data": {
      "text/plain": [
       "<AxesSubplot:xlabel='hour', ylabel='sum'>"
      ]
     },
     "execution_count": 578,
     "metadata": {},
     "output_type": "execute_result"
    },
    {
     "data": {
      "image/png": "[encoded data removed]",
      "text/plain": [
       "<Figure size 432x288 with 1 Axes>"
      ]
     },
     "metadata": {
      "needs_background": "light"
     },
     "output_type": "display_data"
    }
   ],
   "source": [
    "sns.barplot(x=hour_likes.index, y=hour_likes['sum'])"
   ]
  },
  {
   "cell_type": "code",
   "execution_count": 579,
   "metadata": {
    "scrolled": true
   },
   "outputs": [
    {
     "data": {
      "text/plain": [
       "<AxesSubplot:xlabel='hour', ylabel='mean'>"
      ]
     },
     "execution_count": 579,
     "metadata": {},
     "output_type": "execute_result"
    },
    {
     "data": {
      "image/png": "[encoded data removed]",
      "text/plain": [
       "<Figure size 432x288 with 1 Axes>"
      ]
     },
     "metadata": {
      "needs_background": "light"
     },
     "output_type": "display_data"
    }
   ],
   "source": [
    "sns.barplot(x=hour_likes.index, y=hour_likes['mean'])"
   ]
  },
  {
   "cell_type": "code",
   "execution_count": 583,
   "metadata": {},
   "outputs": [
    {
     "data": {
      "text/plain": [
       "<AxesSubplot:xlabel='hour', ylabel='count'>"
      ]
     },
     "execution_count": 583,
     "metadata": {},
     "output_type": "execute_result"
    },
    {
     "data": {
      "image/png": "[encoded data removed]",
      "text/plain": [
       "<Figure size 432x288 with 1 Axes>"
      ]
     },
     "metadata": {
      "needs_background": "light"
     },
     "output_type": "display_data"
    }
   ],
   "source": [
    "sns.barplot(x=hour_likes.index, y=hour_likes['count'])"
   ]
  },
  {
   "cell_type": "code",
   "execution_count": null,
   "metadata": {},
   "outputs": [],
   "source": []
  }
 ],
 "metadata": {
  "kernelspec": {
   "display_name": "Python 3",
   "language": "python",
   "name": "python3"
  },
  "language_info": {
   "codemirror_mode": {
    "name": "ipython",
    "version": 3
   },
   "file_extension": ".py",
   "mimetype": "text/x-python",
   "name": "python",
   "nbconvert_exporter": "python",
   "pygments_lexer": "ipython3",
   "version": "3.8.5"
  }
 },
 "nbformat": 4,
 "nbformat_minor": 4
}
